{
  "nbformat": 4,
  "nbformat_minor": 0,
  "metadata": {
    "colab": {
      "provenance": []
    },
    "kernelspec": {
      "name": "python3",
      "display_name": "Python 3"
    },
    "language_info": {
      "name": "python"
    }
  },
  "cells": [
    {
      "cell_type": "markdown",
      "source": [
        "## Лабораторная работа 2\n",
        "\n",
        "\n",
        "*Выбрать набор данных (датасет), содержащий категориальные и числовые признаки и пропуски в данных. Для выполнения следующих пунктов можно использовать несколько различных наборов данных (один для обработки пропусков, другой для категориальных признаков и т.д.) Просьба не использовать датасет, на котором данная задача решалась в лекции.\n",
        "Для выбранного датасета (датасетов) на основе материалов лекций решить следующие задачи:\n",
        "устранение пропусков в данных;\n",
        "кодирование категориальных признаков;\n",
        "нормализация числовых признаков.*"
      ],
      "metadata": {
        "id": "mEBB00veCHIx"
      }
    },
    {
      "cell_type": "code",
      "execution_count": 16,
      "metadata": {
        "id": "EboYfY4ONm_M"
      },
      "outputs": [],
      "source": [
        "import numpy as np\n",
        "import pandas as pd\n",
        "import seaborn as sns\n",
        "import matplotlib.pyplot as plt\n",
        "from sklearn.impute import SimpleImputer\n",
        "%matplotlib inline\n",
        "sns.set(style=\"ticks\")"
      ]
    },
    {
      "cell_type": "code",
      "source": [
        "data_loaded = pd.read_csv('sample_data/crimes.csv', sep=\",\")"
      ],
      "metadata": {
        "id": "Z3puAbuzDUPy"
      },
      "execution_count": 6,
      "outputs": []
    },
    {
      "cell_type": "code",
      "source": [
        "# размер набора данных\n",
        "data_loaded.shape"
      ],
      "metadata": {
        "colab": {
          "base_uri": "https://localhost:8080/"
        },
        "id": "3L3dWKV-Dvah",
        "outputId": "b3c10bf5-efbd-407f-8d8f-5129298f171c"
      },
      "execution_count": 7,
      "outputs": [
        {
          "output_type": "execute_result",
          "data": {
            "text/plain": [
              "(25648, 12)"
            ]
          },
          "metadata": {},
          "execution_count": 7
        }
      ]
    },
    {
      "cell_type": "code",
      "source": [
        "data_loaded.head()\n"
      ],
      "metadata": {
        "colab": {
          "base_uri": "https://localhost:8080/",
          "height": 365
        },
        "id": "t6q0tm3tD06O",
        "outputId": "bc324894-2f01-4862-c877-395481919cd3"
      },
      "execution_count": 8,
      "outputs": [
        {
          "output_type": "execute_result",
          "data": {
            "text/plain": [
              "    CrimeDate CrimeTime CrimeCode            Location           Description  \\\n",
              "0  11/12/2016  02:35:00        3B   300 SAINT PAUL PL      ROBBERY - STREET   \n",
              "1  11/12/2016  02:56:00       3CF      800 S BROADWAY  ROBBERY - COMMERCIAL   \n",
              "2  11/12/2016  03:00:00        6D    1500 PENTWOOD RD     LARCENY FROM AUTO   \n",
              "3  11/12/2016  03:00:00        6D      6600 MILTON LN     LARCENY FROM AUTO   \n",
              "4  11/12/2016  03:00:00        6E  300 W BALTIMORE ST               LARCENY   \n",
              "\n",
              "  Inside/Outside   Weapon   Post      District                Neighborhood  \\\n",
              "0              O      NaN  111.0       CENTRAL                    Downtown   \n",
              "1              I  FIREARM  213.0  SOUTHEASTERN                 Fells Point   \n",
              "2              O      NaN  413.0  NORTHEASTERN  Stonewood-Pentwood-Winston   \n",
              "3              O      NaN  424.0  NORTHEASTERN                   Westfield   \n",
              "4              O      NaN  111.0       CENTRAL                    Downtown   \n",
              "\n",
              "                        Location 1  Total Incidents  \n",
              "0  (39.2924100000, -76.6140800000)              1.0  \n",
              "1  (39.2824200000, -76.5928800000)              1.0  \n",
              "2  (39.3480500000, -76.5883400000)              1.0  \n",
              "3  (39.3626300000, -76.5516100000)              1.0  \n",
              "4  (39.2893800000, -76.6197100000)              1.0  "
            ],
            "text/html": [
              "\n",
              "  <div id=\"df-a2ab8f1e-aff6-4d60-b227-b2a876d8d3e4\" class=\"colab-df-container\">\n",
              "    <div>\n",
              "<style scoped>\n",
              "    .dataframe tbody tr th:only-of-type {\n",
              "        vertical-align: middle;\n",
              "    }\n",
              "\n",
              "    .dataframe tbody tr th {\n",
              "        vertical-align: top;\n",
              "    }\n",
              "\n",
              "    .dataframe thead th {\n",
              "        text-align: right;\n",
              "    }\n",
              "</style>\n",
              "<table border=\"1\" class=\"dataframe\">\n",
              "  <thead>\n",
              "    <tr style=\"text-align: right;\">\n",
              "      <th></th>\n",
              "      <th>CrimeDate</th>\n",
              "      <th>CrimeTime</th>\n",
              "      <th>CrimeCode</th>\n",
              "      <th>Location</th>\n",
              "      <th>Description</th>\n",
              "      <th>Inside/Outside</th>\n",
              "      <th>Weapon</th>\n",
              "      <th>Post</th>\n",
              "      <th>District</th>\n",
              "      <th>Neighborhood</th>\n",
              "      <th>Location 1</th>\n",
              "      <th>Total Incidents</th>\n",
              "    </tr>\n",
              "  </thead>\n",
              "  <tbody>\n",
              "    <tr>\n",
              "      <th>0</th>\n",
              "      <td>11/12/2016</td>\n",
              "      <td>02:35:00</td>\n",
              "      <td>3B</td>\n",
              "      <td>300 SAINT PAUL PL</td>\n",
              "      <td>ROBBERY - STREET</td>\n",
              "      <td>O</td>\n",
              "      <td>NaN</td>\n",
              "      <td>111.0</td>\n",
              "      <td>CENTRAL</td>\n",
              "      <td>Downtown</td>\n",
              "      <td>(39.2924100000, -76.6140800000)</td>\n",
              "      <td>1.0</td>\n",
              "    </tr>\n",
              "    <tr>\n",
              "      <th>1</th>\n",
              "      <td>11/12/2016</td>\n",
              "      <td>02:56:00</td>\n",
              "      <td>3CF</td>\n",
              "      <td>800 S BROADWAY</td>\n",
              "      <td>ROBBERY - COMMERCIAL</td>\n",
              "      <td>I</td>\n",
              "      <td>FIREARM</td>\n",
              "      <td>213.0</td>\n",
              "      <td>SOUTHEASTERN</td>\n",
              "      <td>Fells Point</td>\n",
              "      <td>(39.2824200000, -76.5928800000)</td>\n",
              "      <td>1.0</td>\n",
              "    </tr>\n",
              "    <tr>\n",
              "      <th>2</th>\n",
              "      <td>11/12/2016</td>\n",
              "      <td>03:00:00</td>\n",
              "      <td>6D</td>\n",
              "      <td>1500 PENTWOOD RD</td>\n",
              "      <td>LARCENY FROM AUTO</td>\n",
              "      <td>O</td>\n",
              "      <td>NaN</td>\n",
              "      <td>413.0</td>\n",
              "      <td>NORTHEASTERN</td>\n",
              "      <td>Stonewood-Pentwood-Winston</td>\n",
              "      <td>(39.3480500000, -76.5883400000)</td>\n",
              "      <td>1.0</td>\n",
              "    </tr>\n",
              "    <tr>\n",
              "      <th>3</th>\n",
              "      <td>11/12/2016</td>\n",
              "      <td>03:00:00</td>\n",
              "      <td>6D</td>\n",
              "      <td>6600 MILTON LN</td>\n",
              "      <td>LARCENY FROM AUTO</td>\n",
              "      <td>O</td>\n",
              "      <td>NaN</td>\n",
              "      <td>424.0</td>\n",
              "      <td>NORTHEASTERN</td>\n",
              "      <td>Westfield</td>\n",
              "      <td>(39.3626300000, -76.5516100000)</td>\n",
              "      <td>1.0</td>\n",
              "    </tr>\n",
              "    <tr>\n",
              "      <th>4</th>\n",
              "      <td>11/12/2016</td>\n",
              "      <td>03:00:00</td>\n",
              "      <td>6E</td>\n",
              "      <td>300 W BALTIMORE ST</td>\n",
              "      <td>LARCENY</td>\n",
              "      <td>O</td>\n",
              "      <td>NaN</td>\n",
              "      <td>111.0</td>\n",
              "      <td>CENTRAL</td>\n",
              "      <td>Downtown</td>\n",
              "      <td>(39.2893800000, -76.6197100000)</td>\n",
              "      <td>1.0</td>\n",
              "    </tr>\n",
              "  </tbody>\n",
              "</table>\n",
              "</div>\n",
              "    <div class=\"colab-df-buttons\">\n",
              "\n",
              "  <div class=\"colab-df-container\">\n",
              "    <button class=\"colab-df-convert\" onclick=\"convertToInteractive('df-a2ab8f1e-aff6-4d60-b227-b2a876d8d3e4')\"\n",
              "            title=\"Convert this dataframe to an interactive table.\"\n",
              "            style=\"display:none;\">\n",
              "\n",
              "  <svg xmlns=\"http://www.w3.org/2000/svg\" height=\"24px\" viewBox=\"0 -960 960 960\">\n",
              "    <path d=\"M120-120v-720h720v720H120Zm60-500h600v-160H180v160Zm220 220h160v-160H400v160Zm0 220h160v-160H400v160ZM180-400h160v-160H180v160Zm440 0h160v-160H620v160ZM180-180h160v-160H180v160Zm440 0h160v-160H620v160Z\"/>\n",
              "  </svg>\n",
              "    </button>\n",
              "\n",
              "  <style>\n",
              "    .colab-df-container {\n",
              "      display:flex;\n",
              "      gap: 12px;\n",
              "    }\n",
              "\n",
              "    .colab-df-convert {\n",
              "      background-color: #E8F0FE;\n",
              "      border: none;\n",
              "      border-radius: 50%;\n",
              "      cursor: pointer;\n",
              "      display: none;\n",
              "      fill: #1967D2;\n",
              "      height: 32px;\n",
              "      padding: 0 0 0 0;\n",
              "      width: 32px;\n",
              "    }\n",
              "\n",
              "    .colab-df-convert:hover {\n",
              "      background-color: #E2EBFA;\n",
              "      box-shadow: 0px 1px 2px rgba(60, 64, 67, 0.3), 0px 1px 3px 1px rgba(60, 64, 67, 0.15);\n",
              "      fill: #174EA6;\n",
              "    }\n",
              "\n",
              "    .colab-df-buttons div {\n",
              "      margin-bottom: 4px;\n",
              "    }\n",
              "\n",
              "    [theme=dark] .colab-df-convert {\n",
              "      background-color: #3B4455;\n",
              "      fill: #D2E3FC;\n",
              "    }\n",
              "\n",
              "    [theme=dark] .colab-df-convert:hover {\n",
              "      background-color: #434B5C;\n",
              "      box-shadow: 0px 1px 3px 1px rgba(0, 0, 0, 0.15);\n",
              "      filter: drop-shadow(0px 1px 2px rgba(0, 0, 0, 0.3));\n",
              "      fill: #FFFFFF;\n",
              "    }\n",
              "  </style>\n",
              "\n",
              "    <script>\n",
              "      const buttonEl =\n",
              "        document.querySelector('#df-a2ab8f1e-aff6-4d60-b227-b2a876d8d3e4 button.colab-df-convert');\n",
              "      buttonEl.style.display =\n",
              "        google.colab.kernel.accessAllowed ? 'block' : 'none';\n",
              "\n",
              "      async function convertToInteractive(key) {\n",
              "        const element = document.querySelector('#df-a2ab8f1e-aff6-4d60-b227-b2a876d8d3e4');\n",
              "        const dataTable =\n",
              "          await google.colab.kernel.invokeFunction('convertToInteractive',\n",
              "                                                    [key], {});\n",
              "        if (!dataTable) return;\n",
              "\n",
              "        const docLinkHtml = 'Like what you see? Visit the ' +\n",
              "          '<a target=\"_blank\" href=https://colab.research.google.com/notebooks/data_table.ipynb>data table notebook</a>'\n",
              "          + ' to learn more about interactive tables.';\n",
              "        element.innerHTML = '';\n",
              "        dataTable['output_type'] = 'display_data';\n",
              "        await google.colab.output.renderOutput(dataTable, element);\n",
              "        const docLink = document.createElement('div');\n",
              "        docLink.innerHTML = docLinkHtml;\n",
              "        element.appendChild(docLink);\n",
              "      }\n",
              "    </script>\n",
              "  </div>\n",
              "\n",
              "\n",
              "<div id=\"df-adc03a3e-74e7-4b7d-8623-43bec359181e\">\n",
              "  <button class=\"colab-df-quickchart\" onclick=\"quickchart('df-adc03a3e-74e7-4b7d-8623-43bec359181e')\"\n",
              "            title=\"Suggest charts\"\n",
              "            style=\"display:none;\">\n",
              "\n",
              "<svg xmlns=\"http://www.w3.org/2000/svg\" height=\"24px\"viewBox=\"0 0 24 24\"\n",
              "     width=\"24px\">\n",
              "    <g>\n",
              "        <path d=\"M19 3H5c-1.1 0-2 .9-2 2v14c0 1.1.9 2 2 2h14c1.1 0 2-.9 2-2V5c0-1.1-.9-2-2-2zM9 17H7v-7h2v7zm4 0h-2V7h2v10zm4 0h-2v-4h2v4z\"/>\n",
              "    </g>\n",
              "</svg>\n",
              "  </button>\n",
              "\n",
              "<style>\n",
              "  .colab-df-quickchart {\n",
              "      --bg-color: #E8F0FE;\n",
              "      --fill-color: #1967D2;\n",
              "      --hover-bg-color: #E2EBFA;\n",
              "      --hover-fill-color: #174EA6;\n",
              "      --disabled-fill-color: #AAA;\n",
              "      --disabled-bg-color: #DDD;\n",
              "  }\n",
              "\n",
              "  [theme=dark] .colab-df-quickchart {\n",
              "      --bg-color: #3B4455;\n",
              "      --fill-color: #D2E3FC;\n",
              "      --hover-bg-color: #434B5C;\n",
              "      --hover-fill-color: #FFFFFF;\n",
              "      --disabled-bg-color: #3B4455;\n",
              "      --disabled-fill-color: #666;\n",
              "  }\n",
              "\n",
              "  .colab-df-quickchart {\n",
              "    background-color: var(--bg-color);\n",
              "    border: none;\n",
              "    border-radius: 50%;\n",
              "    cursor: pointer;\n",
              "    display: none;\n",
              "    fill: var(--fill-color);\n",
              "    height: 32px;\n",
              "    padding: 0;\n",
              "    width: 32px;\n",
              "  }\n",
              "\n",
              "  .colab-df-quickchart:hover {\n",
              "    background-color: var(--hover-bg-color);\n",
              "    box-shadow: 0 1px 2px rgba(60, 64, 67, 0.3), 0 1px 3px 1px rgba(60, 64, 67, 0.15);\n",
              "    fill: var(--button-hover-fill-color);\n",
              "  }\n",
              "\n",
              "  .colab-df-quickchart-complete:disabled,\n",
              "  .colab-df-quickchart-complete:disabled:hover {\n",
              "    background-color: var(--disabled-bg-color);\n",
              "    fill: var(--disabled-fill-color);\n",
              "    box-shadow: none;\n",
              "  }\n",
              "\n",
              "  .colab-df-spinner {\n",
              "    border: 2px solid var(--fill-color);\n",
              "    border-color: transparent;\n",
              "    border-bottom-color: var(--fill-color);\n",
              "    animation:\n",
              "      spin 1s steps(1) infinite;\n",
              "  }\n",
              "\n",
              "  @keyframes spin {\n",
              "    0% {\n",
              "      border-color: transparent;\n",
              "      border-bottom-color: var(--fill-color);\n",
              "      border-left-color: var(--fill-color);\n",
              "    }\n",
              "    20% {\n",
              "      border-color: transparent;\n",
              "      border-left-color: var(--fill-color);\n",
              "      border-top-color: var(--fill-color);\n",
              "    }\n",
              "    30% {\n",
              "      border-color: transparent;\n",
              "      border-left-color: var(--fill-color);\n",
              "      border-top-color: var(--fill-color);\n",
              "      border-right-color: var(--fill-color);\n",
              "    }\n",
              "    40% {\n",
              "      border-color: transparent;\n",
              "      border-right-color: var(--fill-color);\n",
              "      border-top-color: var(--fill-color);\n",
              "    }\n",
              "    60% {\n",
              "      border-color: transparent;\n",
              "      border-right-color: var(--fill-color);\n",
              "    }\n",
              "    80% {\n",
              "      border-color: transparent;\n",
              "      border-right-color: var(--fill-color);\n",
              "      border-bottom-color: var(--fill-color);\n",
              "    }\n",
              "    90% {\n",
              "      border-color: transparent;\n",
              "      border-bottom-color: var(--fill-color);\n",
              "    }\n",
              "  }\n",
              "</style>\n",
              "\n",
              "  <script>\n",
              "    async function quickchart(key) {\n",
              "      const quickchartButtonEl =\n",
              "        document.querySelector('#' + key + ' button');\n",
              "      quickchartButtonEl.disabled = true;  // To prevent multiple clicks.\n",
              "      quickchartButtonEl.classList.add('colab-df-spinner');\n",
              "      try {\n",
              "        const charts = await google.colab.kernel.invokeFunction(\n",
              "            'suggestCharts', [key], {});\n",
              "      } catch (error) {\n",
              "        console.error('Error during call to suggestCharts:', error);\n",
              "      }\n",
              "      quickchartButtonEl.classList.remove('colab-df-spinner');\n",
              "      quickchartButtonEl.classList.add('colab-df-quickchart-complete');\n",
              "    }\n",
              "    (() => {\n",
              "      let quickchartButtonEl =\n",
              "        document.querySelector('#df-adc03a3e-74e7-4b7d-8623-43bec359181e button');\n",
              "      quickchartButtonEl.style.display =\n",
              "        google.colab.kernel.accessAllowed ? 'block' : 'none';\n",
              "    })();\n",
              "  </script>\n",
              "</div>\n",
              "    </div>\n",
              "  </div>\n"
            ],
            "application/vnd.google.colaboratory.intrinsic+json": {
              "type": "dataframe",
              "variable_name": "data_loaded",
              "summary": "{\n  \"name\": \"data_loaded\",\n  \"rows\": 25648,\n  \"fields\": [\n    {\n      \"column\": \"CrimeDate\",\n      \"properties\": {\n        \"dtype\": \"object\",\n        \"num_unique_values\": 186,\n        \"samples\": [\n          \"07/26/2016\",\n          \"06/05/2016\",\n          \"05/31/2016\"\n        ],\n        \"semantic_type\": \"\",\n        \"description\": \"\"\n      }\n    },\n    {\n      \"column\": \"CrimeTime\",\n      \"properties\": {\n        \"dtype\": \"category\",\n        \"num_unique_values\": 1904,\n        \"samples\": [\n          \"06:29:00\",\n          \"21:10:00\",\n          \"04:16:00\"\n        ],\n        \"semantic_type\": \"\",\n        \"description\": \"\"\n      }\n    },\n    {\n      \"column\": \"CrimeCode\",\n      \"properties\": {\n        \"dtype\": \"category\",\n        \"num_unique_values\": 74,\n        \"samples\": [\n          \"4E\",\n          \"1O\",\n          \"5B\"\n        ],\n        \"semantic_type\": \"\",\n        \"description\": \"\"\n      }\n    },\n    {\n      \"column\": \"Location\",\n      \"properties\": {\n        \"dtype\": \"category\",\n        \"num_unique_values\": 9446,\n        \"samples\": [\n          \"1100 CAMBRIA ST\",\n          \"2800 GREENMOUNT AV\",\n          \"400 E BELVEDERE AVE\"\n        ],\n        \"semantic_type\": \"\",\n        \"description\": \"\"\n      }\n    },\n    {\n      \"column\": \"Description\",\n      \"properties\": {\n        \"dtype\": \"category\",\n        \"num_unique_values\": 15,\n        \"samples\": [\n          \"ASSAULT BY THREAT\",\n          \"HOMICIDE\",\n          \"ROBBERY - STREET\"\n        ],\n        \"semantic_type\": \"\",\n        \"description\": \"\"\n      }\n    },\n    {\n      \"column\": \"Inside/Outside\",\n      \"properties\": {\n        \"dtype\": \"category\",\n        \"num_unique_values\": 4,\n        \"samples\": [\n          \"I\",\n          \"Inside\",\n          \"O\"\n        ],\n        \"semantic_type\": \"\",\n        \"description\": \"\"\n      }\n    },\n    {\n      \"column\": \"Weapon\",\n      \"properties\": {\n        \"dtype\": \"category\",\n        \"num_unique_values\": 4,\n        \"samples\": [\n          \"HANDS\",\n          \"KNIFE\",\n          \"FIREARM\"\n        ],\n        \"semantic_type\": \"\",\n        \"description\": \"\"\n      }\n    },\n    {\n      \"column\": \"Post\",\n      \"properties\": {\n        \"dtype\": \"number\",\n        \"std\": 268.0528927926924,\n        \"min\": 0.0,\n        \"max\": 944.0,\n        \"num_unique_values\": 147,\n        \"samples\": [\n          0.0,\n          113.0,\n          314.0\n        ],\n        \"semantic_type\": \"\",\n        \"description\": \"\"\n      }\n    },\n    {\n      \"column\": \"District\",\n      \"properties\": {\n        \"dtype\": \"category\",\n        \"num_unique_values\": 12,\n        \"samples\": [\n          \"SOUTHESTERN\",\n          \"NORTHESTERN\",\n          \"CENTRAL\"\n        ],\n        \"semantic_type\": \"\",\n        \"description\": \"\"\n      }\n    },\n    {\n      \"column\": \"Neighborhood\",\n      \"properties\": {\n        \"dtype\": \"category\",\n        \"num_unique_values\": 277,\n        \"samples\": [\n          \"Howard Park\",\n          \"Cylburn\",\n          \"Wyman Park\"\n        ],\n        \"semantic_type\": \"\",\n        \"description\": \"\"\n      }\n    },\n    {\n      \"column\": \"Location 1\",\n      \"properties\": {\n        \"dtype\": \"string\",\n        \"num_unique_values\": 17126,\n        \"samples\": [\n          \"(39.3582600000, -76.6016000000)\",\n          \"(39.3424100000, -76.6827200000)\",\n          \"(39.2867600000, -76.5633500000)\"\n        ],\n        \"semantic_type\": \"\",\n        \"description\": \"\"\n      }\n    },\n    {\n      \"column\": \"Total Incidents\",\n      \"properties\": {\n        \"dtype\": \"number\",\n        \"std\": 0.0,\n        \"min\": 1.0,\n        \"max\": 1.0,\n        \"num_unique_values\": 1,\n        \"samples\": [\n          1.0\n        ],\n        \"semantic_type\": \"\",\n        \"description\": \"\"\n      }\n    }\n  ]\n}"
            }
          },
          "metadata": {},
          "execution_count": 8
        }
      ]
    },
    {
      "cell_type": "code",
      "source": [
        "# Создаем список, содержащий признаки, их типы данных и количество пропусков\n",
        "data_features = list(zip(\n",
        "    # Признаки\n",
        "    [i for i in data_loaded.columns],\n",
        "    zip(\n",
        "        # Типы колонок\n",
        "        [str(i) for i in data_loaded.dtypes],\n",
        "        # Проверим, есть ли пропущенные значения, и вычислим их процентное соотношение к общему количеству данных\n",
        "        [i for i in data_loaded.isnull().sum()],\n",
        "        # Процентное соотношение пропущенных значений к общему количеству данных\n",
        "        [(i / len(data_loaded)) * 100 for i in data_loaded.isnull().sum()]\n",
        "    )\n",
        "))\n",
        "# Выводим признаки с типом данных, количеством пропусков и их процентным соотношением к общему количеству данных\n",
        "data_features\n"
      ],
      "metadata": {
        "colab": {
          "base_uri": "https://localhost:8080/"
        },
        "id": "4zRzoAqQD4T6",
        "outputId": "4c46e35a-c9aa-4ab0-a01b-2bbcab7bde26"
      },
      "execution_count": 14,
      "outputs": [
        {
          "output_type": "execute_result",
          "data": {
            "text/plain": [
              "[('CrimeDate', ('object', 0, 0.0)),\n",
              " ('CrimeTime', ('object', 0, 0.0)),\n",
              " ('CrimeCode', ('object', 1, 0.003898939488459139)),\n",
              " ('Location', ('object', 104, 0.40548970679975044)),\n",
              " ('Description', ('object', 1, 0.003898939488459139)),\n",
              " ('Inside/Outside', ('object', 93, 0.36260137242669993)),\n",
              " ('Weapon', ('object', 16485, 64.27401746724891)),\n",
              " ('Post', ('float64', 8, 0.031191515907673113)),\n",
              " ('District', ('object', 8, 0.031191515907673113)),\n",
              " ('Neighborhood', ('object', 113, 0.44058016219588275)),\n",
              " ('Location 1', ('object', 101, 0.3937928883343731)),\n",
              " ('Total Incidents', ('float64', 1, 0.003898939488459139))]"
            ]
          },
          "metadata": {},
          "execution_count": 14
        }
      ]
    },
    {
      "cell_type": "code",
      "source": [
        "# проверим есть ли пропущенные значения\n",
        "data_loaded.isnull().sum()"
      ],
      "metadata": {
        "colab": {
          "base_uri": "https://localhost:8080/"
        },
        "id": "hjSp0rj2D9ix",
        "outputId": "e33261a5-e21a-4555-b436-50124a5283b6"
      },
      "execution_count": 11,
      "outputs": [
        {
          "output_type": "execute_result",
          "data": {
            "text/plain": [
              "CrimeDate              0\n",
              "CrimeTime              0\n",
              "CrimeCode              1\n",
              "Location             104\n",
              "Description            1\n",
              "Inside/Outside        93\n",
              "Weapon             16485\n",
              "Post                   8\n",
              "District               8\n",
              "Neighborhood         113\n",
              "Location 1           101\n",
              "Total Incidents        1\n",
              "dtype: int64"
            ]
          },
          "metadata": {},
          "execution_count": 11
        }
      ]
    },
    {
      "cell_type": "code",
      "source": [
        "data = data_loaded\n",
        "\n",
        "# удалим значения\n",
        "data.dropna(subset=['CrimeCode', 'District', 'Location'], inplace=True)"
      ],
      "metadata": {
        "id": "Q3B-J4ccEXg7"
      },
      "execution_count": 15,
      "outputs": []
    },
    {
      "cell_type": "code",
      "source": [
        "imp = SimpleImputer(missing_values=np.nan, strategy='most_frequent')\n",
        "data_imp_df = pd.DataFrame(data=data_imp, columns=['Weapon'])\n",
        "\n",
        "data['Weapon'] = data_imp_df['Weapon']"
      ],
      "metadata": {
        "id": "dDfgaSWPVT-z"
      },
      "execution_count": 19,
      "outputs": []
    },
    {
      "cell_type": "code",
      "source": [
        "# Создаем список, содержащий признаки, их типы данных и количество пропусков\n",
        "data_features = list(zip(\n",
        "    # Признаки\n",
        "    [i for i in data_loaded.columns],\n",
        "    zip(\n",
        "        # Типы колонок\n",
        "        [str(i) for i in data_loaded.dtypes],\n",
        "        # Проверим, есть ли пропущенные значения, и вычислим их процентное соотношение к общему количеству данных\n",
        "        [i for i in data_loaded.isnull().sum()],\n",
        "        # Процентное соотношение пропущенных значений к общему количеству данных\n",
        "        [(i / len(data_loaded)) * 100 for i in data_loaded.isnull().sum()]\n",
        "    )\n",
        "))\n",
        "# Выводим признаки с типом данных, количеством пропусков и их процентным соотношением к общему количеству данных\n",
        "data_features\n"
      ],
      "metadata": {
        "colab": {
          "base_uri": "https://localhost:8080/"
        },
        "id": "dAFm2HbpWjVm",
        "outputId": "030442f8-6b0d-4c85-d54e-13b0f9307749"
      },
      "execution_count": 20,
      "outputs": [
        {
          "output_type": "execute_result",
          "data": {
            "text/plain": [
              "[('CrimeDate', ('object', 0, 0.0)),\n",
              " ('CrimeTime', ('object', 0, 0.0)),\n",
              " ('CrimeCode', ('object', 0, 0.0)),\n",
              " ('Location', ('object', 0, 0.0)),\n",
              " ('Description', ('object', 0, 0.0)),\n",
              " ('Inside/Outside', ('object', 91, 0.35624804259317255)),\n",
              " ('Weapon', ('object', 103, 0.4032258064516129)),\n",
              " ('Post', ('float64', 0, 0.0)),\n",
              " ('District', ('object', 0, 0.0)),\n",
              " ('Neighborhood', ('object', 12, 0.04697776385844034)),\n",
              " ('Location 1', ('object', 0, 0.0)),\n",
              " ('Total Incidents', ('float64', 0, 0.0))]"
            ]
          },
          "metadata": {},
          "execution_count": 20
        }
      ]
    },
    {
      "cell_type": "markdown",
      "source": [
        "# кодирование категориальных признаков;\n",
        "\n",
        "```\n",
        "# Выбран кодовый формат\n",
        "```\n",
        "\n"
      ],
      "metadata": {
        "id": "HZtZVq32XPQT"
      }
    },
    {
      "cell_type": "markdown",
      "source": [
        "One-hot encoding предполагает, что значение категории заменяется на отдельную колонку, которая содержит бинарные значения.\n"
      ],
      "metadata": {
        "id": "5A0tCF1hZiTu"
      }
    },
    {
      "cell_type": "code",
      "source": [
        "dummies = pd.get_dummies(data[['Weapon']])\n",
        "\n",
        "dummies = dummies.astype(int)\n",
        "\n",
        "print(dummies.head())"
      ],
      "metadata": {
        "colab": {
          "base_uri": "https://localhost:8080/"
        },
        "id": "9Dhp3PtFXWVc",
        "outputId": "33a598bb-4708-486f-e785-b870da35fdd2"
      },
      "execution_count": 22,
      "outputs": [
        {
          "output_type": "stream",
          "name": "stdout",
          "text": [
            "   Weapon_FIREARM  Weapon_HANDS  Weapon_KNIFE  Weapon_OTHER\n",
            "0               0             1             0             0\n",
            "1               1             0             0             0\n",
            "2               0             1             0             0\n",
            "3               0             1             0             0\n",
            "4               0             1             0             0\n"
          ]
        }
      ]
    },
    {
      "cell_type": "markdown",
      "source": [
        "# Масштабирование;"
      ],
      "metadata": {
        "id": "kcZyPsoLcuKQ"
      }
    },
    {
      "cell_type": "code",
      "source": [
        "from sklearn.preprocessing import MinMaxScaler, StandardScaler, Normalizer\n",
        "sc1 = MinMaxScaler()\n",
        "sc1_data = sc1.fit_transform(data[['Post']])\n",
        "plt.hist(data['Post'], 50)\n",
        "plt.show()"
      ],
      "metadata": {
        "colab": {
          "base_uri": "https://localhost:8080/",
          "height": 434
        },
        "id": "Q74mj3uoc0IW",
        "outputId": "fdb07c14-8460-4d4c-a086-ea289e8efc12"
      },
      "execution_count": 23,
      "outputs": [
        {
          "output_type": "display_data",
          "data": {
            "text/plain": [
              "<Figure size 640x480 with 1 Axes>"
            ],
            "image/png": "[encoded data removed]"
          },
          "metadata": {}
        }
      ]
    },
    {
      "cell_type": "code",
      "source": [
        "plt.hist(sc1_data, 50)\n",
        "plt.show()"
      ],
      "metadata": {
        "colab": {
          "base_uri": "https://localhost:8080/",
          "height": 434
        },
        "id": "Zq2FBm2ldR3d",
        "outputId": "d4aeb371-5cc1-40f5-8754-6e2ee1591eb7"
      },
      "execution_count": 26,
      "outputs": [
        {
          "output_type": "display_data",
          "data": {
            "text/plain": [
              "<Figure size 640x480 with 1 Axes>"
            ],
            "image/png": "[encoded data removed]"
          },
          "metadata": {}
        }
      ]
    }
  ]
}